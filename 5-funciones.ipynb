{
 "cells": [
  {
   "cell_type": "markdown",
   "metadata": {},
   "source": [
    "# **Funciones**:\n",
    "*En Python son bloques de código diseñados para realizar una tarea específica y pueden ser reutilizados en diferentes partes del programa. Una función puede recibir entradas (parámetros), ejecutar una serie de instrucciones, y devolver un resultado opcionalmente.*"
   ]
  },
  {
   "cell_type": "markdown",
   "metadata": {},
   "source": [
    "### 1. **Definición de una función**:\n",
    "*Para definir una función en Python, usamos la palabra clave **def**, seguida del nombre de la función, paréntesis () y dos puntos **:**. El bloque de código de la función se indentará después de los dos puntos.*"
   ]
  },
  {
   "cell_type": "code",
   "execution_count": 2,
   "metadata": {},
   "outputs": [
    {
     "name": "stdout",
     "output_type": "stream",
     "text": [
      "Buen día\n"
     ]
    }
   ],
   "source": [
    "def saludar():\n",
    "    print(\"Buen día\")\n",
    "    \n",
    "# Para ejecutar solo debemos invocar la función:\n",
    "saludar()"
   ]
  },
  {
   "cell_type": "markdown",
   "metadata": {},
   "source": [
    "### 2. **Parámetros de la función:**\n",
    "*Las funciones pueden aceptar parámetros o argumentos, que son datos que se pasan a la función cuando se llama. Estos parámetros se definen dentro de los paréntesis.*"
   ]
  },
  {
   "cell_type": "code",
   "execution_count": 3,
   "metadata": {},
   "outputs": [
    {
     "name": "stdout",
     "output_type": "stream",
     "text": [
      "¡Buen día, Juan Camilo!\n"
     ]
    }
   ],
   "source": [
    "def saludar(nombre):\n",
    "    print(f\"¡Buen día, {nombre}!\")\n",
    "    \n",
    "# Ejecutamos agregandole un nombre:\n",
    "saludar(\"Juan Camilo\")"
   ]
  },
  {
   "cell_type": "markdown",
   "metadata": {},
   "source": [
    "### 3. **Múltiples parámetros**:\n",
    "*Una función puede aceptar múltiples parámetros, separados por comas.*"
   ]
  },
  {
   "cell_type": "code",
   "execution_count": 5,
   "metadata": {},
   "outputs": [
    {
     "name": "stdout",
     "output_type": "stream",
     "text": [
      "La suma de 3 y 4 es 7\n"
     ]
    }
   ],
   "source": [
    "def sumar(a, b):\n",
    "    resultado = a + b\n",
    "    print(f\"La suma de {a} y {b} es {resultado}\")\n",
    "\n",
    "# Ejecutamos con valores para a y b:\n",
    "sumar(3, 4)"
   ]
  },
  {
   "cell_type": "markdown",
   "metadata": {},
   "source": [
    "### 4. **Valores de retorno (return)**:\n",
    "*Las funciones pueden devolver valores usando la palabra clave **return**. Esto es útil cuando necesitas que una función realice una operación y te devuelva un resultado para usarlo más tarde.*"
   ]
  },
  {
   "cell_type": "code",
   "execution_count": 8,
   "metadata": {},
   "outputs": [
    {
     "name": "stdout",
     "output_type": "stream",
     "text": [
      "15\n"
     ]
    }
   ],
   "source": [
    "def multiplicar(a, b):\n",
    "    return a * b\n",
    "\n",
    "# Ejecutamos dando valores:\n",
    "resultado = multiplicar(3, 5)\n",
    "print(resultado)"
   ]
  },
  {
   "cell_type": "markdown",
   "metadata": {},
   "source": [
    "### 5. **Parámetros con valores predeterminados**:\n",
    "*Puedes definir valores predeterminados para los parámetros en una función. Si el usuario no proporciona un argumento para ese parámetro, se utilizará el valor predeterminado.*"
   ]
  },
  {
   "cell_type": "code",
   "execution_count": 9,
   "metadata": {},
   "outputs": [
    {
     "name": "stdout",
     "output_type": "stream",
     "text": [
      "¡Hola, amigo!\n",
      "¡Hola, Carlos!\n"
     ]
    }
   ],
   "source": [
    "def saludar(nombre=\"amigo\"):\n",
    "    print(f\"¡Hola, {nombre}!\")\n",
    "\n",
    "# Si no proporcionas un argumento, el valor predeterminado \"amigo\" será usado.\n",
    "saludar()\n",
    "saludar(\"Carlos\") "
   ]
  },
  {
   "cell_type": "markdown",
   "metadata": {},
   "source": [
    "### 6. **Argumentos con nombre (Keyword arguments)**:\n",
    "*Cuando llamas a una función, puedes especificar los parámetros usando el nombre de los mismos, en lugar de seguir el orden en que fueron definidos.*"
   ]
  },
  {
   "cell_type": "code",
   "execution_count": 10,
   "metadata": {},
   "outputs": [
    {
     "name": "stdout",
     "output_type": "stream",
     "text": [
      "Nombre: Camila, Edad: 25.\n"
     ]
    }
   ],
   "source": [
    "def describir_cliente(nombre, edad):\n",
    "    print(f\"Nombre: {nombre}, Edad: {edad}.\")\n",
    "    \n",
    "# Usamos argumentos con nombre:\n",
    "describir_cliente(edad=25, nombre=\"Camila\")"
   ]
  },
  {
   "cell_type": "markdown",
   "metadata": {},
   "source": [
    "### 7. **Alcance de las variables (Scope)**:\n",
    "*El alcance determina dónde puedes acceder a una variable en tu código. Las variables definidas dentro de una función son locales a esa función, mientras que las variables definidas fuera son globales.*"
   ]
  },
  {
   "cell_type": "markdown",
   "metadata": {},
   "source": [
    "#### -**Variables locales**: *las variables definidas dentro de una función no son accesibles fuera de ella.*"
   ]
  },
  {
   "cell_type": "code",
   "execution_count": 11,
   "metadata": {},
   "outputs": [
    {
     "name": "stdout",
     "output_type": "stream",
     "text": [
      "10\n"
     ]
    }
   ],
   "source": [
    "def mi_funcion():\n",
    "    x = 10  # Variable local\n",
    "    print(x)\n",
    "\n",
    "mi_funcion()  # Salida: 10\n",
    "# print(x)  # Esto daría un error, ya que x no está definida fuera de la función."
   ]
  },
  {
   "cell_type": "markdown",
   "metadata": {},
   "source": [
    "#### -**Variables globales**: *las variables definidas fuera de cualquier función son globales y se pueden usar dentro de las funciones.*"
   ]
  },
  {
   "cell_type": "code",
   "execution_count": null,
   "metadata": {},
   "outputs": [],
   "source": [
    "x = 10  # Variable global\n",
    "\n",
    "def mi_funcion():\n",
    "    print(x)\n",
    "\n",
    "mi_funcion()  # Salida: 10"
   ]
  },
  {
   "cell_type": "code",
   "execution_count": null,
   "metadata": {},
   "outputs": [],
   "source": [
    "# Si quieres modificar una variable dentro de la función usa la clave ´global´:\n",
    "x = 5\n",
    "\n",
    "def cambiar_valor():\n",
    "    global x\n",
    "    x = 10\n",
    "\n",
    "cambiar_valor()\n",
    "print(x)  # Salida: 10\n"
   ]
  },
  {
   "cell_type": "markdown",
   "metadata": {},
   "source": [
    "### 9. **Funciones Lambda**:\n",
    "*Las funciones lambda son pequeñas funciones anónimas que se definen en una sola línea y se utilizan para operaciones simples.*"
   ]
  },
  {
   "cell_type": "code",
   "execution_count": null,
   "metadata": {},
   "outputs": [],
   "source": [
    "#  La sintaxis de una función lambda es:\n",
    "lambda argumentos: expresion"
   ]
  },
  {
   "cell_type": "code",
   "execution_count": null,
   "metadata": {},
   "outputs": [],
   "source": [
    "# Ejemplo:\n",
    "numeros = [1, 2, 3, 4]\n",
    "cuadrados = list(map(lambda x: x**2, numeros))\n",
    "print(cuadrados)  "
   ]
  }
 ],
 "metadata": {
  "kernelspec": {
   "display_name": "Python 3",
   "language": "python",
   "name": "python3"
  },
  "language_info": {
   "codemirror_mode": {
    "name": "ipython",
    "version": 3
   },
   "file_extension": ".py",
   "mimetype": "text/x-python",
   "name": "python",
   "nbconvert_exporter": "python",
   "pygments_lexer": "ipython3",
   "version": "3.12.4"
  }
 },
 "nbformat": 4,
 "nbformat_minor": 2
}
