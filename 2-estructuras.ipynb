{
 "cells": [
  {
   "cell_type": "markdown",
   "metadata": {},
   "source": [
    "# **Estrucuturas básicas de almacenamiento**"
   ]
  },
  {
   "cell_type": "markdown",
   "metadata": {},
   "source": [
    "*Son tipos de datos que permiten organizar y gestionar información de manera eficiente en la memoria de un programa. Son fundamentales para almacenar, acceder y manipular colecciones de datos de diferentes formas. A continuación, te explico las principales estructuras básicas de almacenamiento:*"
   ]
  },
  {
   "cell_type": "markdown",
   "metadata": {},
   "source": [
    "### 1. **Listas (lists)**\n",
    "- *Son colecciones ordenadas de elementos.*\n",
    "- *Permiten alamacenar cualquier tipo de dato.*\n",
    "- *Son mutables, los que significa que puedes modificar sus elementos.*\n",
    "- *Los elementos pueden ser duplicados.*"
   ]
  },
  {
   "cell_type": "code",
   "execution_count": 1,
   "metadata": {},
   "outputs": [
    {
     "name": "stdout",
     "output_type": "stream",
     "text": [
      "42\n",
      "Hola\n",
      "3.14\n",
      "True\n",
      "[1, 2, 3]\n",
      "{'nombre': 'Ana', 'edad': 25}\n",
      "[42, 'Adiós', 3.14, True, [1, 2, 3], {'nombre': 'Ana', 'edad': 25}]\n"
     ]
    }
   ],
   "source": [
    "# Lista con diferentes tipos de variables\n",
    "lista_mixta = [42, \"Hola\", 3.14, True, [1, 2, 3], \n",
    "               {\"nombre\": \"Ana\", \"edad\": 25}]\n",
    "\n",
    "# Así puedes acceder a los elementos de la lista\n",
    "print(lista_mixta[0])  \n",
    "print(lista_mixta[1])  \n",
    "print(lista_mixta[2])  \n",
    "print(lista_mixta[3])  \n",
    "print(lista_mixta[4])  \n",
    "print(lista_mixta[5])  \n",
    "\n",
    "# Para modificar un elemento de la lista\n",
    "lista_mixta[1] = \"Adiós\"\n",
    "print(lista_mixta)  \n"
   ]
  },
  {
   "cell_type": "markdown",
   "metadata": {},
   "source": [
    "### 2. **Tuplas (tuples)**\n",
    "- *Son similares a las listas, pero son inmutables, no pueden ser modificadas después de ser creadas.*\n",
    "- *Son útiles cuando necesitas una colección de elementos que no cambiará en la ejecución.*\n",
    "- *Pueden contener cualquier tipo de dato y elementos duplicados.*"
   ]
  },
  {
   "cell_type": "code",
   "execution_count": 2,
   "metadata": {},
   "outputs": [
    {
     "name": "stdout",
     "output_type": "stream",
     "text": [
      "10\n",
      "Hola\n",
      "3.14\n",
      "3.14\n"
     ]
    }
   ],
   "source": [
    "# Tupla simple con diferentes tipos de datos\n",
    "tupla_sencilla = (10, \"Hola\", 3.14, False)\n",
    "\n",
    "# Accediendo a los elementos de la tupla\n",
    "print(tupla_sencilla[0])\n",
    "print(tupla_sencilla[1])\n",
    "print(tupla_sencilla[2])\n",
    "print(tupla_sencilla[2])"
   ]
  },
  {
   "cell_type": "markdown",
   "metadata": {},
   "source": [
    "### 3. **Diccionarios (dict)**\n",
    "- *Almacenan pares clave-valoe.\n",
    "- *Son mutables, pueden ser modificadas después de creadas.*\n",
    "- *No permite claves duplicadas.**"
   ]
  },
  {
   "cell_type": "code",
   "execution_count": null,
   "metadata": {},
   "outputs": [],
   "source": [
    "# Podemos agregar n cantidad de variables dentro de ellas.\n",
    "estudiantes = {\n",
    "    \"nombre_apellido\" : [\"brayan montoya\", \"manuela botero\"],\n",
    "    \"programa\" : [\"economia\", \"ingenieria\"],\n",
    "    \"año\" : [2024, 2024],\n",
    "    \"semestre\" : [5, 6],\n",
    "    \"universidad\" : \"UNAULA\"\n",
    "    }\n"
   ]
  },
  {
   "cell_type": "markdown",
   "metadata": {},
   "source": [
    "### 4. **Conjunto (set)**\n",
    "- *Colecciones desordenadas de elementos únicos.*\n",
    "- *No permite elementos duplicados.*\n",
    "- *Se pueden agregar o eliminar elementos.*"
   ]
  },
  {
   "cell_type": "code",
   "execution_count": null,
   "metadata": {},
   "outputs": [],
   "source": [
    "# Podemos craer conjuntos de diferentes tipos de variables.\n",
    "conjunto_1 = set([\"e\", \"b\", \"a\"])\n",
    "conjunto_1\n",
    "\n",
    "conjunto_2 = set([0, -100, 100])\n",
    "conjunto_2\n",
    "\n",
    "# Los conjuntos no permiten que se repita un elemento:\n",
    "lista = [1, 0, -3, 0, 2, 1] # Creamos una lista\n",
    "conjunto_3 = set(lista)  # La convertimos en conjunto\n",
    "conjunto_3 # Aquí vemos que no se repiten los valores de la lista."
   ]
  },
  {
   "cell_type": "markdown",
   "metadata": {},
   "source": []
  }
 ],
 "metadata": {
  "kernelspec": {
   "display_name": "Python 3",
   "language": "python",
   "name": "python3"
  },
  "language_info": {
   "codemirror_mode": {
    "name": "ipython",
    "version": 3
   },
   "file_extension": ".py",
   "mimetype": "text/x-python",
   "name": "python",
   "nbconvert_exporter": "python",
   "pygments_lexer": "ipython3",
   "version": "3.12.4"
  }
 },
 "nbformat": 4,
 "nbformat_minor": 2
}
