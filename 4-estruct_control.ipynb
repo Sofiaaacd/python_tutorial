{
 "cells": [
  {
   "cell_type": "markdown",
   "metadata": {},
   "source": [
    "# **Estructuras de control**"
   ]
  },
  {
   "cell_type": "markdown",
   "metadata": {},
   "source": [
    " *En Python son fundamentales para dirigir el flujo de ejecución del programa. Nos permiten tomar decisiones, realizar repeticiones y manejar excepciones. Las principales estructuras de control en Python son:*"
   ]
  },
  {
   "cell_type": "markdown",
   "metadata": {},
   "source": [
    "### 1. **Condicionales (if, elif, else)**:\n",
    "*Estas estructuras permiten que el programa tome decisiones basadas en condiciones. Python evalúa una expresión booleana (True o False) y ejecuta el bloque de código correspondiente.*\n",
    "* ***if**: Evalúa una condición; si es True, ejecuta el bloque de código asociado.*\n",
    "- ***elif**: (\"else if\") se utiliza para evaluar condiciones adicionales si el if inicial no se cumple.*\n",
    "- ***else**: Se ejecuta si ninguna de las condiciones anteriores se cumple.*"
   ]
  },
  {
   "cell_type": "code",
   "execution_count": null,
   "metadata": {},
   "outputs": [],
   "source": [
    "# Ejemplo 1:\n",
    "edad = 18\n",
    "if edad < 18:\n",
    "    print(\"Eres menor de edad.\")\n",
    "elif edad == 18:\n",
    "    print(\"Tienes 18 años.\")\n",
    "else:\n",
    "    print(\"Eres mayor de edad.\")\n",
    "    \n",
    "# Ejemplo 2:\n",
    "nota = 4.1  # creamos una variable.\n",
    "\n",
    "if nota > 4:\n",
    "    print(\"se otorga beca!\") # Condicionamos con (if)."
   ]
  },
  {
   "cell_type": "markdown",
   "metadata": {},
   "source": [
    "### 2. **Bucles o Loops (for, while)**:\n",
    "*Los bucles permiten repetir un bloque de código varias veces, lo que es útil cuando queremos iterar sobre una colección de datos o repetir una tarea hasta que se cumpla una condición.*\n",
    "- ***for**: se usa para iterar sobre una secuencia (como una lista, tupla, cadena o rango de números). En cada iteración, el valor de un elemento de la secuencia es asignado a una variable.*\n",
    "- ***while**: ejecuta un bloque de código mientras una condición sea True. Se sigue ejecutando hasta que la condición se vuelve False.*\n"
   ]
  },
  {
   "cell_type": "code",
   "execution_count": 1,
   "metadata": {},
   "outputs": [
    {
     "name": "stdout",
     "output_type": "stream",
     "text": [
      "1\n",
      "2\n",
      "3\n",
      "4\n"
     ]
    }
   ],
   "source": [
    "# Ejemplo (for):\n",
    "for numero in [1, 2, 3, 4]:\n",
    "    print(numero)\n",
    "    \n",
    "# También puedes hacerlo asignandole un range:\n",
    "for i in range(5):  # Itera desde 0 hasta 4.\n",
    "    print(i)\n",
    "    \n",
    "# Ejemplo (while):\n",
    "contador = 0\n",
    "while contador < 5:\n",
    "    print(contador)\n",
    "    contador += 1  # Incrementa el contador en 1.\n"
   ]
  },
  {
   "cell_type": "markdown",
   "metadata": {},
   "source": [
    "*Puedes interrumpir los blucles con (break, continue, pass), estas palabras modifican el comportamiento de los bucles*\n",
    "- ***break**: Se utiliza para salir completamente del bucle, incluso si la condición no ha terminado.*\n",
    "- ***continue**: Omite la iteración actual y continúa con la siguiente.*\n",
    "- ***pass**: No hace nada. Es útil como un marcador de posición cuando se requiere un bloque de código pero aún no está implementado.*"
   ]
  },
  {
   "cell_type": "code",
   "execution_count": null,
   "metadata": {},
   "outputs": [],
   "source": [
    "# Ejemplos:\n",
    "# (break)\n",
    "for i in range(10):\n",
    "    if i == 5:\n",
    "        break  # El bucle termina cuando i es 5\n",
    "    print(i)\n",
    "\n",
    "# (continue)\n",
    "for i in range(5):\n",
    "    if i == 3:\n",
    "        continue  # Salta el número 3\n",
    "    print(i)\n",
    "\n",
    "# (pass)\n",
    "for i in range(5):\n",
    "    if i == 3:\n",
    "        pass  # No hace nada en esta iteración\n",
    "    else:\n",
    "        print(i)\n"
   ]
  },
  {
   "cell_type": "markdown",
   "metadata": {},
   "source": [
    "### 4. **Manejo de excepciones (try, except, finally)**:\n",
    "*Estas estructuras permiten manejar errores o excepciones que podrían ocurrir durante la ejecución del programa.*\n",
    "- ***try**: Se coloca el código que puede generar una excepción.*\n",
    "- ***except**: Aquí se captura y maneja la excepción.*\n",
    "- ***finally**: Se ejecuta independientemente de si ocurre o no una excepción.*"
   ]
  },
  {
   "cell_type": "code",
   "execution_count": 2,
   "metadata": {},
   "outputs": [
    {
     "name": "stdout",
     "output_type": "stream",
     "text": [
      "Error: No se puede dividir por cero.\n",
      "Fin del bloque de manejo de excepciones.\n"
     ]
    }
   ],
   "source": [
    "# Ejemplo:\n",
    "try:\n",
    "    resultado = 10 / 0\n",
    "except ZeroDivisionError:\n",
    "    print(\"Error: No se puede dividir por cero.\")\n",
    "finally:\n",
    "    print(\"Fin del bloque de manejo de excepciones.\")\n"
   ]
  },
  {
   "cell_type": "markdown",
   "metadata": {},
   "source": [
    "### 5. **Conprensiones de listas (List comprehension)**:\n",
    "*Es una forma concisa de crear listas basadas en bucles for y condicionales.*"
   ]
  },
  {
   "cell_type": "code",
   "execution_count": null,
   "metadata": {},
   "outputs": [],
   "source": [
    "# Ejemplo 1:\n",
    "id_numbers = [\"1.123.987\", \"3.000.123\", \"5.345.678\"]\n",
    "\n",
    "id_numbers_clean = [id.replace(\".\",\"\") for id in id_numbers]\n",
    "id_numbers_clean\n",
    "\n",
    "# Ejemplo 2:\n",
    "notas = [4.8, 3, 1, 5]\n",
    "\n",
    "[\"aprueba\" if nota >= 3 else \"desaprueba\" for nota in notas]"
   ]
  }
 ],
 "metadata": {
  "kernelspec": {
   "display_name": "Python 3",
   "language": "python",
   "name": "python3"
  },
  "language_info": {
   "codemirror_mode": {
    "name": "ipython",
    "version": 3
   },
   "file_extension": ".py",
   "mimetype": "text/x-python",
   "name": "python",
   "nbconvert_exporter": "python",
   "pygments_lexer": "ipython3",
   "version": "3.12.4"
  }
 },
 "nbformat": 4,
 "nbformat_minor": 2
}
