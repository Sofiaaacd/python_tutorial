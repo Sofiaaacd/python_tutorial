{
 "cells": [
  {
   "cell_type": "markdown",
   "metadata": {},
   "source": [
    "# **Indexación de estructuras**"
   ]
  },
  {
   "cell_type": "markdown",
   "metadata": {},
   "source": [
    " *En las estructuras de datos en Python, la indexación se refiere al proceso de acceder a elementos dentro de estas estructuras utilizando índices (números enteros que indican la posición del elemento) o claves (en el caso de diccionarios).*"
   ]
  },
  {
   "cell_type": "markdown",
   "metadata": {},
   "source": [
    "### 1. **Listas (list)**:\n",
    "- *Las listas son colecciones ordenadas, por lo tanto, cada elemento tiene una posición única o índice. Los índices en Python comienzan en 0*"
   ]
  },
  {
   "cell_type": "code",
   "execution_count": null,
   "metadata": {},
   "outputs": [],
   "source": [
    "# Primero creamos la lista:\n",
    "lista = [10, 20, 30, 40]\n",
    "\n",
    "# Así podemos acceder a los elementos de la lista:\n",
    "print(lista[0])  # primer elemento.\n",
    "print(lista[-1])  # último elemento."
   ]
  },
  {
   "cell_type": "markdown",
   "metadata": {},
   "source": [
    "- *Los índices positivos, recorren la lista de izquierda a derecha.*\n",
    "- *los índices negativos, recorren la lista de derecha a izquierda.*"
   ]
  },
  {
   "cell_type": "markdown",
   "metadata": {},
   "source": [
    "### 2. **Tuplas (tuple)**:\n",
    "- *Las tuplas son similares a las listas, pero son inmutables, es decir, no se pueden modificar una vez creadas. La indexación funciona igual que en las listas: el primer elemento tiene índice 0.*"
   ]
  },
  {
   "cell_type": "code",
   "execution_count": null,
   "metadata": {},
   "outputs": [],
   "source": [
    "tupla = (100, 200, 300, 400)\n",
    "print(tupla[1])  # segundo elemento."
   ]
  },
  {
   "cell_type": "markdown",
   "metadata": {},
   "source": [
    "### 3. **Diccionarios (dict)**:\n",
    "- *En los diccionarios, no usamos índices numéricos para acceder a los elementos, sino que cada elemento está asociado a una clave. Las claves pueden ser de distintos tipos (como cadenas o números) y son únicas para cada valor.*\n",
    "\n",
    "- *Para acceder a un valor, usamos su clave correspondiente.*"
   ]
  },
  {
   "cell_type": "code",
   "execution_count": null,
   "metadata": {},
   "outputs": [],
   "source": [
    "diccionario = {'nombre': 'Ana', 'edad': 25}\n",
    "print(diccionario['nombre'])  # valor asociado a la clave 'nombre'."
   ]
  }
 ],
 "metadata": {
  "language_info": {
   "name": "python"
  }
 },
 "nbformat": 4,
 "nbformat_minor": 2
}
