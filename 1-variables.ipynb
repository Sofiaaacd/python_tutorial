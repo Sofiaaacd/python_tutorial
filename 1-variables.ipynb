{
 "cells": [
  {
   "cell_type": "markdown",
   "metadata": {},
   "source": [
    "# **Variables**"
   ]
  },
  {
   "cell_type": "markdown",
   "metadata": {},
   "source": [
    "##### *En Python, una variable es un nombre que se utiliza para hacer referencia a un valor almacenado en la memoria. Es un contenedor que puede almacenar diferentes tipos de datos, como números, cadenas, listas, etc. No necesitas declarar el tipo de una variable explícitamente; Python lo infiere automáticamente.*"
   ]
  },
  {
   "cell_type": "markdown",
   "metadata": {},
   "source": [
    "### **Buenas prácticas para nombrar variables**:\n",
    " - *Nunca se debe empezar nombres de la variable con números.*\n",
    " - *Se distinguen letras mayúsculas de las letras minúsculas.*\n",
    " - *Nunca se usan espacios para nombrar las variables. **(usar _ en su lugar)***\n",
    " - *Es de gran ayuda dar nombres alucivos al contenido.*\n",
    " - *No uses caracteres especiales como tildes, ñ, puntos, etc.*\n",
    " - *No utilices palabras reservadas de Python **(como if, for, while, entre otras.)***"
   ]
  },
  {
   "cell_type": "code",
   "execution_count": null,
   "metadata": {},
   "outputs": [],
   "source": [
    "# Sintaxis para nombrar una variable\n",
    "\n",
    "nombre_variable = valor"
   ]
  },
  {
   "cell_type": "code",
   "execution_count": null,
   "metadata": {},
   "outputs": [],
   "source": [
    "# Ejemplo:\n",
    "nombre = \"María Antonia\"\n",
    "edad = 20\n",
    "e_estudiante = True "
   ]
  },
  {
   "cell_type": "markdown",
   "metadata": {},
   "source": [
    "### *Las variables se agrupan según su tipo, aquí podrás conocer algunos tipos de ellas.*"
   ]
  },
  {
   "cell_type": "markdown",
   "metadata": {},
   "source": [
    "## **Tipos de variables:**\n",
    "\n",
    " ##### *Python es un lenguaje tipado dinámico, por tanto no será necesario que especifiques el tipo de variable que vas a usar. A continuación te enseñare algunos tipos de variables* "
   ]
  },
  {
   "cell_type": "markdown",
   "metadata": {},
   "source": [
    "### 1. **Enteros (int)**:"
   ]
  },
  {
   "cell_type": "code",
   "execution_count": null,
   "metadata": {},
   "outputs": [],
   "source": [
    "# Aquí encontramos un ejemplo, como su nombre indica, no son números decimales.\n",
    "\n",
    "numero_entero = 120"
   ]
  },
  {
   "cell_type": "markdown",
   "metadata": {},
   "source": [
    "### 2. **Flotantes (float)**:"
   ]
  },
  {
   "cell_type": "code",
   "execution_count": null,
   "metadata": {},
   "outputs": [],
   "source": [
    "# En este grupo se encuentran los números con punto decimal.\n",
    "\n",
    "numero_decimal = 4.32"
   ]
  },
  {
   "cell_type": "markdown",
   "metadata": {},
   "source": [
    "### 3. **Cadenas de texto (str):**"
   ]
  },
  {
   "cell_type": "code",
   "execution_count": 2,
   "metadata": {},
   "outputs": [],
   "source": [
    "# Las cadenas contienen secuencias de caracteres entre comillas simples o dobles.\n",
    "\n",
    "texto = \"Buen día, ¿cómo estás?\""
   ]
  },
  {
   "cell_type": "markdown",
   "metadata": {},
   "source": [
    "### 4. **Booleanos (bool):**"
   ]
  },
  {
   "cell_type": "code",
   "execution_count": null,
   "metadata": {},
   "outputs": [],
   "source": [
    "# Pueden cintener solo dos valores: \"True\" o \"False\". Se usan como condicionales.\n",
    "es_mujer = False\n",
    "menor_edad = True"
   ]
  },
  {
   "cell_type": "markdown",
   "metadata": {},
   "source": [
    "### 5. **Listas (list):**"
   ]
  },
  {
   "cell_type": "code",
   "execution_count": null,
   "metadata": {},
   "outputs": [],
   "source": [
    "# Incluyen secuencias ordenadas de elementos, estos pueden ser de cualquier tipo.\n",
    "\n",
    "mi_lista = [1, 2, 3, 4, 5]\n",
    "frutas = [\"manzana\", \"Fresa\", \"Aguacate\"]"
   ]
  },
  {
   "cell_type": "markdown",
   "metadata": {},
   "source": [
    "### 6. **Diccionario (dict):**"
   ]
  },
  {
   "cell_type": "code",
   "execution_count": null,
   "metadata": {},
   "outputs": [],
   "source": [
    "# Son utiles para asociar una clave única con un valor específico. \n",
    "# Te permite modificar los elementos despues de creada.\n",
    "\n",
    "persona = {\"nombre\": \"Ana\", \"edad\": 30}"
   ]
  },
  {
   "cell_type": "markdown",
   "metadata": {},
   "source": [
    "## **Conversión de tipos de variables:**\n",
    "##### *Cada una de las variables mencionadas puedes cambiarle su tipo de la siguiente manera*"
   ]
  },
  {
   "cell_type": "markdown",
   "metadata": {},
   "source": [
    "### **1. Conversión a entero con (int)**:"
   ]
  },
  {
   "cell_type": "code",
   "execution_count": null,
   "metadata": {},
   "outputs": [],
   "source": [
    "# Conversión de cadena a entero\n",
    "cadena = \"456\"\n",
    "num_entero = int(cadena)\n",
    "print(f\"Cadena '{cadena}' convertida a entero: {num_entero}\") \n",
    "\n",
    "# Conversión de flotante a entero (redondea hacia abajo)\n",
    "num_flotante = 123.99\n",
    "num_entero = int(num_flotante)\n",
    "print(f\"Flotante {num_flotante} convertido a entero: {num_entero}\")  "
   ]
  },
  {
   "cell_type": "markdown",
   "metadata": {},
   "source": [
    "### **2. Conversión a Flotante con (float)**:"
   ]
  },
  {
   "cell_type": "code",
   "execution_count": null,
   "metadata": {},
   "outputs": [],
   "source": [
    "# Conversión de cadena a flotante\n",
    "cadena = \"123.45\"\n",
    "num_flotante = float(cadena)\n",
    "print(f\"Cadena '{cadena}' convertida a flotante: {num_flotante}\")  \n",
    "\n",
    "# Conversión de entero a flotante\n",
    "num_entero = 789\n",
    "num_flotante = float(num_entero)\n",
    "print(f\"Entero {num_entero} convertido a flotante: {num_flotante}\")  "
   ]
  },
  {
   "cell_type": "markdown",
   "metadata": {},
   "source": [
    "### **3. Conversión a Cadena con (str)**:"
   ]
  },
  {
   "cell_type": "code",
   "execution_count": null,
   "metadata": {},
   "outputs": [],
   "source": [
    "# Conversión de entero a cadena\n",
    "num_entero = 987\n",
    "cadena = str(num_entero)\n",
    "print(f\"Entero {num_entero} convertido a cadena: '{cadena}'\")  \n",
    "\n",
    "# Conversión de flotante a cadena\n",
    "num_flotante = 123.45\n",
    "cadena = str(num_flotante)\n",
    "print(f\"Flotante {num_flotante} convertido a cadena: '{cadena}'\")"
   ]
  },
  {
   "cell_type": "markdown",
   "metadata": {},
   "source": [
    "### **4. Conversión a Lista con (list)**:"
   ]
  },
  {
   "cell_type": "code",
   "execution_count": null,
   "metadata": {},
   "outputs": [],
   "source": [
    "# Conversión de tupla a lista\n",
    "tupla = (1, 2, 3)\n",
    "lista = list(tupla)\n",
    "print(f\"Tupla {tupla} convertida a lista: {lista}\")  \n",
    "\n",
    "# Conversión de cadena a lista (cada carácter se convierte en un elemento)\n",
    "cadena = \"Python\"\n",
    "lista = list(cadena)\n",
    "print(f\"Cadena '{cadena}' convertida a lista: {lista}\")"
   ]
  },
  {
   "cell_type": "markdown",
   "metadata": {},
   "source": [
    "### **5. Conversión a Tupla con (tuple)**:"
   ]
  },
  {
   "cell_type": "code",
   "execution_count": null,
   "metadata": {},
   "outputs": [],
   "source": [
    "# Conversión de lista a tupla\n",
    "lista = [1, 2, 3]\n",
    "tupla = tuple(lista)\n",
    "print(f\"Lista {lista} convertida a tupla: {tupla}\")  \n",
    "\n",
    "# Conversión de cadena a tupla (cada carácter se convierte en un elemento)\n",
    "cadena = \"Python\"\n",
    "tupla = tuple(cadena)\n",
    "print(f\"Cadena '{cadena}' convertida a tupla: {tupla}\")"
   ]
  },
  {
   "cell_type": "markdown",
   "metadata": {},
   "source": [
    "### **6. Conversión a Booleano con (bool)**:"
   ]
  },
  {
   "cell_type": "code",
   "execution_count": null,
   "metadata": {},
   "outputs": [],
   "source": [
    "# Conversión de entero a booleano\n",
    "num_entero = 0\n",
    "es_verdadero = bool(num_entero)\n",
    "print(f\"Entero {num_entero} convertido a booleano: {es_verdadero}\")  \n",
    "# Conversión de cadena a booleano\n",
    "cadena = \"Hola\"\n",
    "es_verdadero = bool(cadena)\n",
    "print(f\"Cadena '{cadena}' convertida a booleano: {es_verdadero}\") \n",
    "\n",
    "# Cadena vacía se convierte a False\n",
    "cadena_vacia = \"\"\n",
    "es_verdadero = bool(cadena_vacia)\n",
    "print(f\"Cadena vacía convertida a booleano: {es_verdadero}\")"
   ]
  },
  {
   "cell_type": "markdown",
   "metadata": {},
   "source": [
    "### **7. Conversion a Diccionario con (dict)**:"
   ]
  },
  {
   "cell_type": "code",
   "execution_count": null,
   "metadata": {},
   "outputs": [],
   "source": [
    "# Conversión de lista de tuplas a diccionario\n",
    "lista_tuplas = [(\"clave1\", \"valor1\"), (\"clave2\", \"valor2\")]\n",
    "diccionario = dict(lista_tuplas)\n",
    "print(f\"Lista de tuplas {lista_tuplas} convertida a diccionario: {diccionario}\")  \n",
    "# Conversión de lista de listas a diccionario\n",
    "lista_listas = [[\"a\", 1], [\"b\", 2], [\"c\", 3]]\n",
    "diccionario = dict(lista_listas)\n",
    "print(f\"Lista de listas {lista_listas} convertida a diccionario: {diccionario}\")"
   ]
  },
  {
   "cell_type": "markdown",
   "metadata": {},
   "source": [
    "#### *- Podemos usar la función **print()** para mostar el valor de una variable en la consola que ya hayamos guardado*"
   ]
  },
  {
   "cell_type": "code",
   "execution_count": 4,
   "metadata": {},
   "outputs": [
    {
     "name": "stdout",
     "output_type": "stream",
     "text": [
      "El nombre es: Sofía Cruz Durán\n",
      "Su edad es: 21\n"
     ]
    }
   ],
   "source": [
    "# Ejemplo:\n",
    "\n",
    "# Primero creamos las variables.\n",
    "nombre = \"Sofía Cruz Durán\"\n",
    "edad = 21\n",
    "\n",
    "# Usamos Print() y dentro del parentesis agregamos un mensaje, separamos con coma el nombre de la variable que usaremos.\n",
    "print(\"El nombre es:\", nombre)\n",
    "print(\"Su edad es:\", edad)"
   ]
  },
  {
   "cell_type": "markdown",
   "metadata": {},
   "source": [
    "###  *- Python también te permite realizar operaciones con las variables numericas, así:*"
   ]
  },
  {
   "cell_type": "code",
   "execution_count": 6,
   "metadata": {},
   "outputs": [
    {
     "name": "stdout",
     "output_type": "stream",
     "text": [
      "Suma: 70\n",
      "Resta: -20\n",
      "Producto: 1125\n",
      "División: 0.5555555555555556\n"
     ]
    }
   ],
   "source": [
    "a = 25\n",
    "b = 45\n",
    "\n",
    "# Suma\n",
    "suma = a + b\n",
    "print(\"Suma:\", suma)\n",
    "\n",
    "# Resta\n",
    "resta = a - b\n",
    "print(\"Resta:\", resta)\n",
    "\n",
    "# Multuplicación\n",
    "producto = a * b\n",
    "print(\"Producto:\", producto)\n",
    "\n",
    "# División\n",
    "divison = a / b\n",
    "print(\"División:\", divison)"
   ]
  },
  {
   "cell_type": "markdown",
   "metadata": {},
   "source": [
    "###  *- Puedes concatenar cadenas de texto usando el operador **+**, así:*"
   ]
  },
  {
   "cell_type": "code",
   "execution_count": 7,
   "metadata": {},
   "outputs": [
    {
     "name": "stdout",
     "output_type": "stream",
     "text": [
      "Buen día, Marta\n"
     ]
    }
   ],
   "source": [
    "saludo = \"Buen día\"\n",
    "nombre = \"Marta\"\n",
    "mensaje = saludo + \", \" + nombre\n",
    "\n",
    "print(mensaje)  "
   ]
  },
  {
   "cell_type": "markdown",
   "metadata": {},
   "source": [
    "### *- En Python puedes usar **f-strings** para incluir variables en una cadena de texto:*"
   ]
  },
  {
   "cell_type": "code",
   "execution_count": 2,
   "metadata": {},
   "outputs": [
    {
     "name": "stdout",
     "output_type": "stream",
     "text": [
      "Hola, me llamo Sofía, tengo 21 años y vivo en Medellín.\n"
     ]
    }
   ],
   "source": [
    "# Primero definimos las variables:\n",
    "nombre = \"Sofía\"\n",
    "edad = 21\n",
    "ciudad = \"Medellín\"\n",
    "\n",
    "# Usamos el F-strings para cambiar la cadena:\n",
    "mensaje = f\"Hola, me llamo {nombre}, tengo {edad} años y vivo en {ciudad}.\"\n",
    "\n",
    "# Usamos print() para ver el mensaje en la consola:\n",
    "print(mensaje)"
   ]
  },
  {
   "cell_type": "code",
   "execution_count": null,
   "metadata": {},
   "outputs": [],
   "source": [
    "# Otros ejemplos con variables en Python:\n",
    "\n",
    "# Puedes asignar valores a varias variables:\n",
    "a, b, c = 1, 2, 3\n",
    "print(a, b, c)\n",
    "\n",
    "# También puedes eliminar una variable usando la palabra \"del\":\n",
    "nombre_1 = \"Manuel\"\n",
    "del nombre_1\n",
    " "
   ]
  },
  {
   "cell_type": "markdown",
   "metadata": {},
   "source": [
    "#### *Python te permite hacer multiples cambios y asignaciones a las variables, con ayuda de una IA puedes conocer muchas más de ellas.*"
   ]
  }
 ],
 "metadata": {
  "kernelspec": {
   "display_name": "Python 3",
   "language": "python",
   "name": "python3"
  },
  "language_info": {
   "codemirror_mode": {
    "name": "ipython",
    "version": 3
   },
   "file_extension": ".py",
   "mimetype": "text/x-python",
   "name": "python",
   "nbconvert_exporter": "python",
   "pygments_lexer": "ipython3",
   "version": "3.12.4"
  }
 },
 "nbformat": 4,
 "nbformat_minor": 2
}
